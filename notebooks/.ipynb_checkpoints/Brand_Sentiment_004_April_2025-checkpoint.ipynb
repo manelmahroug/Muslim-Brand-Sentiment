{
 "cells": [
  {
   "cell_type": "code",
   "execution_count": 1,
   "id": "8bd69fb8",
   "metadata": {},
   "outputs": [],
   "source": [
    "import pandas as pd\n",
    "import numpy as np\n",
    "import seaborn as sns\n",
    "import matplotlib.pyplot as plt"
   ]
  },
  {
   "cell_type": "markdown",
   "id": "f39c75b8",
   "metadata": {},
   "source": [
    "# 1. Data Cleaning\n",
    "\n",
    "1. Load the dataset\n",
    "2. Make a copy of the dataset\n",
    "3. Remove personal data (marked with NaN)\n",
    "4. Adjust column names (from Unnamed to Other + descriptive title for the column)"
   ]
  },
  {
   "cell_type": "code",
   "execution_count": 2,
   "id": "66f8985f",
   "metadata": {},
   "outputs": [
    {
     "ename": "FileNotFoundError",
     "evalue": "[Errno 2] No such file or directory: 'data/muslim_brand_apr_2025.csv'",
     "output_type": "error",
     "traceback": [
      "\u001b[0;31m---------------------------------------------------------------------------\u001b[0m",
      "\u001b[0;31mFileNotFoundError\u001b[0m                         Traceback (most recent call last)",
      "Cell \u001b[0;32mIn[2], line 1\u001b[0m\n\u001b[0;32m----> 1\u001b[0m df \u001b[38;5;241m=\u001b[39m \u001b[43mpd\u001b[49m\u001b[38;5;241;43m.\u001b[39;49m\u001b[43mread_csv\u001b[49m\u001b[43m(\u001b[49m\u001b[38;5;124;43m\"\u001b[39;49m\u001b[38;5;124;43mdata/muslim_brand_apr_2025.csv\u001b[39;49m\u001b[38;5;124;43m\"\u001b[39;49m\u001b[43m)\u001b[49m\n\u001b[1;32m      2\u001b[0m df \u001b[38;5;241m=\u001b[39m df\u001b[38;5;241m.\u001b[39mdrop(index\u001b[38;5;241m=\u001b[39m\u001b[38;5;241m0\u001b[39m)\u001b[38;5;241m.\u001b[39mreset_index(drop\u001b[38;5;241m=\u001b[39m\u001b[38;5;28;01mTrue\u001b[39;00m)\n",
      "File \u001b[0;32m~/anaconda3/lib/python3.10/site-packages/pandas/util/_decorators.py:211\u001b[0m, in \u001b[0;36mdeprecate_kwarg.<locals>._deprecate_kwarg.<locals>.wrapper\u001b[0;34m(*args, **kwargs)\u001b[0m\n\u001b[1;32m    209\u001b[0m     \u001b[38;5;28;01melse\u001b[39;00m:\n\u001b[1;32m    210\u001b[0m         kwargs[new_arg_name] \u001b[38;5;241m=\u001b[39m new_arg_value\n\u001b[0;32m--> 211\u001b[0m \u001b[38;5;28;01mreturn\u001b[39;00m \u001b[43mfunc\u001b[49m\u001b[43m(\u001b[49m\u001b[38;5;241;43m*\u001b[39;49m\u001b[43margs\u001b[49m\u001b[43m,\u001b[49m\u001b[43m \u001b[49m\u001b[38;5;241;43m*\u001b[39;49m\u001b[38;5;241;43m*\u001b[39;49m\u001b[43mkwargs\u001b[49m\u001b[43m)\u001b[49m\n",
      "File \u001b[0;32m~/anaconda3/lib/python3.10/site-packages/pandas/util/_decorators.py:331\u001b[0m, in \u001b[0;36mdeprecate_nonkeyword_arguments.<locals>.decorate.<locals>.wrapper\u001b[0;34m(*args, **kwargs)\u001b[0m\n\u001b[1;32m    325\u001b[0m \u001b[38;5;28;01mif\u001b[39;00m \u001b[38;5;28mlen\u001b[39m(args) \u001b[38;5;241m>\u001b[39m num_allow_args:\n\u001b[1;32m    326\u001b[0m     warnings\u001b[38;5;241m.\u001b[39mwarn(\n\u001b[1;32m    327\u001b[0m         msg\u001b[38;5;241m.\u001b[39mformat(arguments\u001b[38;5;241m=\u001b[39m_format_argument_list(allow_args)),\n\u001b[1;32m    328\u001b[0m         \u001b[38;5;167;01mFutureWarning\u001b[39;00m,\n\u001b[1;32m    329\u001b[0m         stacklevel\u001b[38;5;241m=\u001b[39mfind_stack_level(),\n\u001b[1;32m    330\u001b[0m     )\n\u001b[0;32m--> 331\u001b[0m \u001b[38;5;28;01mreturn\u001b[39;00m \u001b[43mfunc\u001b[49m\u001b[43m(\u001b[49m\u001b[38;5;241;43m*\u001b[39;49m\u001b[43margs\u001b[49m\u001b[43m,\u001b[49m\u001b[43m \u001b[49m\u001b[38;5;241;43m*\u001b[39;49m\u001b[38;5;241;43m*\u001b[39;49m\u001b[43mkwargs\u001b[49m\u001b[43m)\u001b[49m\n",
      "File \u001b[0;32m~/anaconda3/lib/python3.10/site-packages/pandas/io/parsers/readers.py:950\u001b[0m, in \u001b[0;36mread_csv\u001b[0;34m(filepath_or_buffer, sep, delimiter, header, names, index_col, usecols, squeeze, prefix, mangle_dupe_cols, dtype, engine, converters, true_values, false_values, skipinitialspace, skiprows, skipfooter, nrows, na_values, keep_default_na, na_filter, verbose, skip_blank_lines, parse_dates, infer_datetime_format, keep_date_col, date_parser, dayfirst, cache_dates, iterator, chunksize, compression, thousands, decimal, lineterminator, quotechar, quoting, doublequote, escapechar, comment, encoding, encoding_errors, dialect, error_bad_lines, warn_bad_lines, on_bad_lines, delim_whitespace, low_memory, memory_map, float_precision, storage_options)\u001b[0m\n\u001b[1;32m    935\u001b[0m kwds_defaults \u001b[38;5;241m=\u001b[39m _refine_defaults_read(\n\u001b[1;32m    936\u001b[0m     dialect,\n\u001b[1;32m    937\u001b[0m     delimiter,\n\u001b[0;32m   (...)\u001b[0m\n\u001b[1;32m    946\u001b[0m     defaults\u001b[38;5;241m=\u001b[39m{\u001b[38;5;124m\"\u001b[39m\u001b[38;5;124mdelimiter\u001b[39m\u001b[38;5;124m\"\u001b[39m: \u001b[38;5;124m\"\u001b[39m\u001b[38;5;124m,\u001b[39m\u001b[38;5;124m\"\u001b[39m},\n\u001b[1;32m    947\u001b[0m )\n\u001b[1;32m    948\u001b[0m kwds\u001b[38;5;241m.\u001b[39mupdate(kwds_defaults)\n\u001b[0;32m--> 950\u001b[0m \u001b[38;5;28;01mreturn\u001b[39;00m \u001b[43m_read\u001b[49m\u001b[43m(\u001b[49m\u001b[43mfilepath_or_buffer\u001b[49m\u001b[43m,\u001b[49m\u001b[43m \u001b[49m\u001b[43mkwds\u001b[49m\u001b[43m)\u001b[49m\n",
      "File \u001b[0;32m~/anaconda3/lib/python3.10/site-packages/pandas/io/parsers/readers.py:605\u001b[0m, in \u001b[0;36m_read\u001b[0;34m(filepath_or_buffer, kwds)\u001b[0m\n\u001b[1;32m    602\u001b[0m _validate_names(kwds\u001b[38;5;241m.\u001b[39mget(\u001b[38;5;124m\"\u001b[39m\u001b[38;5;124mnames\u001b[39m\u001b[38;5;124m\"\u001b[39m, \u001b[38;5;28;01mNone\u001b[39;00m))\n\u001b[1;32m    604\u001b[0m \u001b[38;5;66;03m# Create the parser.\u001b[39;00m\n\u001b[0;32m--> 605\u001b[0m parser \u001b[38;5;241m=\u001b[39m \u001b[43mTextFileReader\u001b[49m\u001b[43m(\u001b[49m\u001b[43mfilepath_or_buffer\u001b[49m\u001b[43m,\u001b[49m\u001b[43m \u001b[49m\u001b[38;5;241;43m*\u001b[39;49m\u001b[38;5;241;43m*\u001b[39;49m\u001b[43mkwds\u001b[49m\u001b[43m)\u001b[49m\n\u001b[1;32m    607\u001b[0m \u001b[38;5;28;01mif\u001b[39;00m chunksize \u001b[38;5;129;01mor\u001b[39;00m iterator:\n\u001b[1;32m    608\u001b[0m     \u001b[38;5;28;01mreturn\u001b[39;00m parser\n",
      "File \u001b[0;32m~/anaconda3/lib/python3.10/site-packages/pandas/io/parsers/readers.py:1442\u001b[0m, in \u001b[0;36mTextFileReader.__init__\u001b[0;34m(self, f, engine, **kwds)\u001b[0m\n\u001b[1;32m   1439\u001b[0m     \u001b[38;5;28mself\u001b[39m\u001b[38;5;241m.\u001b[39moptions[\u001b[38;5;124m\"\u001b[39m\u001b[38;5;124mhas_index_names\u001b[39m\u001b[38;5;124m\"\u001b[39m] \u001b[38;5;241m=\u001b[39m kwds[\u001b[38;5;124m\"\u001b[39m\u001b[38;5;124mhas_index_names\u001b[39m\u001b[38;5;124m\"\u001b[39m]\n\u001b[1;32m   1441\u001b[0m \u001b[38;5;28mself\u001b[39m\u001b[38;5;241m.\u001b[39mhandles: IOHandles \u001b[38;5;241m|\u001b[39m \u001b[38;5;28;01mNone\u001b[39;00m \u001b[38;5;241m=\u001b[39m \u001b[38;5;28;01mNone\u001b[39;00m\n\u001b[0;32m-> 1442\u001b[0m \u001b[38;5;28mself\u001b[39m\u001b[38;5;241m.\u001b[39m_engine \u001b[38;5;241m=\u001b[39m \u001b[38;5;28;43mself\u001b[39;49m\u001b[38;5;241;43m.\u001b[39;49m\u001b[43m_make_engine\u001b[49m\u001b[43m(\u001b[49m\u001b[43mf\u001b[49m\u001b[43m,\u001b[49m\u001b[43m \u001b[49m\u001b[38;5;28;43mself\u001b[39;49m\u001b[38;5;241;43m.\u001b[39;49m\u001b[43mengine\u001b[49m\u001b[43m)\u001b[49m\n",
      "File \u001b[0;32m~/anaconda3/lib/python3.10/site-packages/pandas/io/parsers/readers.py:1735\u001b[0m, in \u001b[0;36mTextFileReader._make_engine\u001b[0;34m(self, f, engine)\u001b[0m\n\u001b[1;32m   1733\u001b[0m     \u001b[38;5;28;01mif\u001b[39;00m \u001b[38;5;124m\"\u001b[39m\u001b[38;5;124mb\u001b[39m\u001b[38;5;124m\"\u001b[39m \u001b[38;5;129;01mnot\u001b[39;00m \u001b[38;5;129;01min\u001b[39;00m mode:\n\u001b[1;32m   1734\u001b[0m         mode \u001b[38;5;241m+\u001b[39m\u001b[38;5;241m=\u001b[39m \u001b[38;5;124m\"\u001b[39m\u001b[38;5;124mb\u001b[39m\u001b[38;5;124m\"\u001b[39m\n\u001b[0;32m-> 1735\u001b[0m \u001b[38;5;28mself\u001b[39m\u001b[38;5;241m.\u001b[39mhandles \u001b[38;5;241m=\u001b[39m \u001b[43mget_handle\u001b[49m\u001b[43m(\u001b[49m\n\u001b[1;32m   1736\u001b[0m \u001b[43m    \u001b[49m\u001b[43mf\u001b[49m\u001b[43m,\u001b[49m\n\u001b[1;32m   1737\u001b[0m \u001b[43m    \u001b[49m\u001b[43mmode\u001b[49m\u001b[43m,\u001b[49m\n\u001b[1;32m   1738\u001b[0m \u001b[43m    \u001b[49m\u001b[43mencoding\u001b[49m\u001b[38;5;241;43m=\u001b[39;49m\u001b[38;5;28;43mself\u001b[39;49m\u001b[38;5;241;43m.\u001b[39;49m\u001b[43moptions\u001b[49m\u001b[38;5;241;43m.\u001b[39;49m\u001b[43mget\u001b[49m\u001b[43m(\u001b[49m\u001b[38;5;124;43m\"\u001b[39;49m\u001b[38;5;124;43mencoding\u001b[39;49m\u001b[38;5;124;43m\"\u001b[39;49m\u001b[43m,\u001b[49m\u001b[43m \u001b[49m\u001b[38;5;28;43;01mNone\u001b[39;49;00m\u001b[43m)\u001b[49m\u001b[43m,\u001b[49m\n\u001b[1;32m   1739\u001b[0m \u001b[43m    \u001b[49m\u001b[43mcompression\u001b[49m\u001b[38;5;241;43m=\u001b[39;49m\u001b[38;5;28;43mself\u001b[39;49m\u001b[38;5;241;43m.\u001b[39;49m\u001b[43moptions\u001b[49m\u001b[38;5;241;43m.\u001b[39;49m\u001b[43mget\u001b[49m\u001b[43m(\u001b[49m\u001b[38;5;124;43m\"\u001b[39;49m\u001b[38;5;124;43mcompression\u001b[39;49m\u001b[38;5;124;43m\"\u001b[39;49m\u001b[43m,\u001b[49m\u001b[43m \u001b[49m\u001b[38;5;28;43;01mNone\u001b[39;49;00m\u001b[43m)\u001b[49m\u001b[43m,\u001b[49m\n\u001b[1;32m   1740\u001b[0m \u001b[43m    \u001b[49m\u001b[43mmemory_map\u001b[49m\u001b[38;5;241;43m=\u001b[39;49m\u001b[38;5;28;43mself\u001b[39;49m\u001b[38;5;241;43m.\u001b[39;49m\u001b[43moptions\u001b[49m\u001b[38;5;241;43m.\u001b[39;49m\u001b[43mget\u001b[49m\u001b[43m(\u001b[49m\u001b[38;5;124;43m\"\u001b[39;49m\u001b[38;5;124;43mmemory_map\u001b[39;49m\u001b[38;5;124;43m\"\u001b[39;49m\u001b[43m,\u001b[49m\u001b[43m \u001b[49m\u001b[38;5;28;43;01mFalse\u001b[39;49;00m\u001b[43m)\u001b[49m\u001b[43m,\u001b[49m\n\u001b[1;32m   1741\u001b[0m \u001b[43m    \u001b[49m\u001b[43mis_text\u001b[49m\u001b[38;5;241;43m=\u001b[39;49m\u001b[43mis_text\u001b[49m\u001b[43m,\u001b[49m\n\u001b[1;32m   1742\u001b[0m \u001b[43m    \u001b[49m\u001b[43merrors\u001b[49m\u001b[38;5;241;43m=\u001b[39;49m\u001b[38;5;28;43mself\u001b[39;49m\u001b[38;5;241;43m.\u001b[39;49m\u001b[43moptions\u001b[49m\u001b[38;5;241;43m.\u001b[39;49m\u001b[43mget\u001b[49m\u001b[43m(\u001b[49m\u001b[38;5;124;43m\"\u001b[39;49m\u001b[38;5;124;43mencoding_errors\u001b[39;49m\u001b[38;5;124;43m\"\u001b[39;49m\u001b[43m,\u001b[49m\u001b[43m \u001b[49m\u001b[38;5;124;43m\"\u001b[39;49m\u001b[38;5;124;43mstrict\u001b[39;49m\u001b[38;5;124;43m\"\u001b[39;49m\u001b[43m)\u001b[49m\u001b[43m,\u001b[49m\n\u001b[1;32m   1743\u001b[0m \u001b[43m    \u001b[49m\u001b[43mstorage_options\u001b[49m\u001b[38;5;241;43m=\u001b[39;49m\u001b[38;5;28;43mself\u001b[39;49m\u001b[38;5;241;43m.\u001b[39;49m\u001b[43moptions\u001b[49m\u001b[38;5;241;43m.\u001b[39;49m\u001b[43mget\u001b[49m\u001b[43m(\u001b[49m\u001b[38;5;124;43m\"\u001b[39;49m\u001b[38;5;124;43mstorage_options\u001b[39;49m\u001b[38;5;124;43m\"\u001b[39;49m\u001b[43m,\u001b[49m\u001b[43m \u001b[49m\u001b[38;5;28;43;01mNone\u001b[39;49;00m\u001b[43m)\u001b[49m\u001b[43m,\u001b[49m\n\u001b[1;32m   1744\u001b[0m \u001b[43m\u001b[49m\u001b[43m)\u001b[49m\n\u001b[1;32m   1745\u001b[0m \u001b[38;5;28;01massert\u001b[39;00m \u001b[38;5;28mself\u001b[39m\u001b[38;5;241m.\u001b[39mhandles \u001b[38;5;129;01mis\u001b[39;00m \u001b[38;5;129;01mnot\u001b[39;00m \u001b[38;5;28;01mNone\u001b[39;00m\n\u001b[1;32m   1746\u001b[0m f \u001b[38;5;241m=\u001b[39m \u001b[38;5;28mself\u001b[39m\u001b[38;5;241m.\u001b[39mhandles\u001b[38;5;241m.\u001b[39mhandle\n",
      "File \u001b[0;32m~/anaconda3/lib/python3.10/site-packages/pandas/io/common.py:856\u001b[0m, in \u001b[0;36mget_handle\u001b[0;34m(path_or_buf, mode, encoding, compression, memory_map, is_text, errors, storage_options)\u001b[0m\n\u001b[1;32m    851\u001b[0m \u001b[38;5;28;01melif\u001b[39;00m \u001b[38;5;28misinstance\u001b[39m(handle, \u001b[38;5;28mstr\u001b[39m):\n\u001b[1;32m    852\u001b[0m     \u001b[38;5;66;03m# Check whether the filename is to be opened in binary mode.\u001b[39;00m\n\u001b[1;32m    853\u001b[0m     \u001b[38;5;66;03m# Binary mode does not support 'encoding' and 'newline'.\u001b[39;00m\n\u001b[1;32m    854\u001b[0m     \u001b[38;5;28;01mif\u001b[39;00m ioargs\u001b[38;5;241m.\u001b[39mencoding \u001b[38;5;129;01mand\u001b[39;00m \u001b[38;5;124m\"\u001b[39m\u001b[38;5;124mb\u001b[39m\u001b[38;5;124m\"\u001b[39m \u001b[38;5;129;01mnot\u001b[39;00m \u001b[38;5;129;01min\u001b[39;00m ioargs\u001b[38;5;241m.\u001b[39mmode:\n\u001b[1;32m    855\u001b[0m         \u001b[38;5;66;03m# Encoding\u001b[39;00m\n\u001b[0;32m--> 856\u001b[0m         handle \u001b[38;5;241m=\u001b[39m \u001b[38;5;28;43mopen\u001b[39;49m\u001b[43m(\u001b[49m\n\u001b[1;32m    857\u001b[0m \u001b[43m            \u001b[49m\u001b[43mhandle\u001b[49m\u001b[43m,\u001b[49m\n\u001b[1;32m    858\u001b[0m \u001b[43m            \u001b[49m\u001b[43mioargs\u001b[49m\u001b[38;5;241;43m.\u001b[39;49m\u001b[43mmode\u001b[49m\u001b[43m,\u001b[49m\n\u001b[1;32m    859\u001b[0m \u001b[43m            \u001b[49m\u001b[43mencoding\u001b[49m\u001b[38;5;241;43m=\u001b[39;49m\u001b[43mioargs\u001b[49m\u001b[38;5;241;43m.\u001b[39;49m\u001b[43mencoding\u001b[49m\u001b[43m,\u001b[49m\n\u001b[1;32m    860\u001b[0m \u001b[43m            \u001b[49m\u001b[43merrors\u001b[49m\u001b[38;5;241;43m=\u001b[39;49m\u001b[43merrors\u001b[49m\u001b[43m,\u001b[49m\n\u001b[1;32m    861\u001b[0m \u001b[43m            \u001b[49m\u001b[43mnewline\u001b[49m\u001b[38;5;241;43m=\u001b[39;49m\u001b[38;5;124;43m\"\u001b[39;49m\u001b[38;5;124;43m\"\u001b[39;49m\u001b[43m,\u001b[49m\n\u001b[1;32m    862\u001b[0m \u001b[43m        \u001b[49m\u001b[43m)\u001b[49m\n\u001b[1;32m    863\u001b[0m     \u001b[38;5;28;01melse\u001b[39;00m:\n\u001b[1;32m    864\u001b[0m         \u001b[38;5;66;03m# Binary mode\u001b[39;00m\n\u001b[1;32m    865\u001b[0m         handle \u001b[38;5;241m=\u001b[39m \u001b[38;5;28mopen\u001b[39m(handle, ioargs\u001b[38;5;241m.\u001b[39mmode)\n",
      "\u001b[0;31mFileNotFoundError\u001b[0m: [Errno 2] No such file or directory: 'data/muslim_brand_apr_2025.csv'"
     ]
    }
   ],
   "source": [
    "df = pd.read_csv(\"/data/muslim_brand_apr_2025.csv\")\n",
    "df = df.drop(index=0).reset_index(drop=True)"
   ]
  },
  {
   "cell_type": "code",
   "execution_count": null,
   "id": "ac7a034a",
   "metadata": {},
   "outputs": [],
   "source": [
    "df.head()"
   ]
  },
  {
   "cell_type": "code",
   "execution_count": null,
   "id": "1f3bb705",
   "metadata": {},
   "outputs": [],
   "source": [
    "apr25= df.copy()"
   ]
  },
  {
   "cell_type": "code",
   "execution_count": null,
   "id": "881999c0",
   "metadata": {},
   "outputs": [],
   "source": [
    "apr25 = apr25.drop(columns=['Respondent ID', 'Collector ID', 'Start Date', 'End Date', \n",
    "                            'IP Address', 'Email Address', 'First Name', 'Last Name', \n",
    "                            'Custom Data 1', 'collector_type_source', 'Device'])"
   ]
  },
  {
   "cell_type": "code",
   "execution_count": null,
   "id": "236f9c90",
   "metadata": {},
   "outputs": [],
   "source": [
    "apr25.rename(columns={'Unnamed: 11': \"Religion_other\"}, inplace= True)\n",
    "apr25.rename(columns={'Unnamed: 16':\"News_other\"}, inplace= True)"
   ]
  },
  {
   "cell_type": "code",
   "execution_count": null,
   "id": "a0680670",
   "metadata": {},
   "outputs": [],
   "source": [
    "apr25.columns"
   ]
  },
  {
   "cell_type": "code",
   "execution_count": null,
   "id": "1d8f9bfc",
   "metadata": {},
   "outputs": [],
   "source": [
    "apr25.describe()"
   ]
  },
  {
   "cell_type": "markdown",
   "id": "ef0defa2",
   "metadata": {},
   "source": [
    "# 2. Metrics"
   ]
  },
  {
   "cell_type": "markdown",
   "id": "5b99f326",
   "metadata": {},
   "source": [
    "## 2.1 Sentiment Proportion"
   ]
  },
  {
   "cell_type": "code",
   "execution_count": null,
   "id": "ed6435a0",
   "metadata": {},
   "outputs": [],
   "source": [
    "sentiment_prop = apr25['How do you feel about Muslim people in America?'].value_counts(normalize=True).reset_index()\n",
    "sentiment_prop.columns = ['Category', 'Percentage']\n",
    "sentiment_prop['Percentage'] *= 100  "
   ]
  },
  {
   "cell_type": "code",
   "execution_count": null,
   "id": "9b1002a4",
   "metadata": {},
   "outputs": [],
   "source": [
    "sentiment_prop "
   ]
  },
  {
   "cell_type": "code",
   "execution_count": null,
   "id": "9745fb9c",
   "metadata": {},
   "outputs": [],
   "source": [
    "print( \"Good sentiment percentage:\", sentiment_prop.loc[0,'Percentage'])\n",
    "print( \"Neutral sentimen percentaget:\", sentiment_prop.loc[1,'Percentage'])\n",
    "print( \"Bad sentiment percentage:\", sentiment_prop.loc[2,'Percentage'])"
   ]
  },
  {
   "cell_type": "markdown",
   "id": "09f2b813",
   "metadata": {},
   "source": [
    "## 2.2 Positive to Negative Ratio"
   ]
  },
  {
   "cell_type": "code",
   "execution_count": null,
   "id": "b05ef4b2",
   "metadata": {},
   "outputs": [],
   "source": [
    "ratio = apr25['How do you feel about Muslim people in America?'].value_counts().reset_index()\n",
    "positive_to_negative_ratio = ratio.loc[0,'How do you feel about Muslim people in America?']/\\\n",
    "ratio.loc[2,'How do you feel about Muslim people in America?']"
   ]
  },
  {
   "cell_type": "code",
   "execution_count": null,
   "id": "0fa0d54f",
   "metadata": {},
   "outputs": [],
   "source": [
    "ratio"
   ]
  },
  {
   "cell_type": "code",
   "execution_count": null,
   "id": "00cc38d0",
   "metadata": {},
   "outputs": [],
   "source": [
    "apr25['How do you feel about Muslim people in America?'].value_counts(normalize= True)*100"
   ]
  },
  {
   "cell_type": "code",
   "execution_count": null,
   "id": "f1ff4bfd",
   "metadata": {},
   "outputs": [],
   "source": [
    "positive_to_negative_ratio"
   ]
  },
  {
   "cell_type": "markdown",
   "id": "6b0955b8",
   "metadata": {},
   "source": [
    "## Positive to Neutral Ratio"
   ]
  },
  {
   "cell_type": "code",
   "execution_count": null,
   "id": "b7dbb0ea",
   "metadata": {},
   "outputs": [],
   "source": [
    "positive_to_neutral_ratio = ratio.loc[0,'How do you feel about Muslim people in America?']/\\\n",
    "ratio.loc[1,'How do you feel about Muslim people in America?']"
   ]
  },
  {
   "cell_type": "code",
   "execution_count": null,
   "id": "f33942a6",
   "metadata": {},
   "outputs": [],
   "source": [
    "positive_to_neutral_ratio"
   ]
  },
  {
   "cell_type": "markdown",
   "id": "06745788",
   "metadata": {},
   "source": [
    "# Function 1: Plotting Distributions (%)"
   ]
  },
  {
   "cell_type": "code",
   "execution_count": null,
   "id": "b210a864",
   "metadata": {},
   "outputs": [],
   "source": [
    "def plot_percentages(df, column_name, x_label, title):\n",
    "    \"\"\"\n",
    "    Creates a bar plot of the percentage distribution of categories in a column.\n",
    "    Highlights the largest percentage in red and the rest in grey.\n",
    "    \"\"\"\n",
    "    \n",
    "    plt.rcParams['figure.dpi'] = 300\n",
    "    counts_df = df[column_name].value_counts(normalize=True).reset_index()\n",
    "    counts_df.columns = ['Category', 'Percentage']\n",
    "    counts_df['Percentage'] *= 100  # Convert to percentage\n",
    "\n",
    "    max_index = counts_df['Percentage'].idxmax()\n",
    "    colors = ['grey' if i != max_index else 'red' for i in range(len(counts_df))]\n",
    "    \n",
    "    plt.figure(figsize=(8.5, 5.5), dpi=150)\n",
    "    sns.barplot(x='Category', y='Percentage', data=counts_df, palette=colors)\n",
    "\n",
    "\n",
    "    plt.title(title, fontsize=10)\n",
    "    plt.xlabel(x_label, fontsize=8)\n",
    "    plt.ylabel('Percentage', fontsize=8)\n",
    "\n",
    "    plt.xticks(rotation=45, ha='right', fontsize=7)\n",
    "    plt.yticks(rotation=45, ha='right', fontsize=7)\n",
    "\n",
    "    plt.tight_layout()\n",
    "    plt.show()\n",
    "    plt.savefig(f'images/{title}.png', dpi=300)\n"
   ]
  },
  {
   "cell_type": "markdown",
   "id": "5afa740f",
   "metadata": {},
   "source": [
    "# Function 2: Plotting Sentiment Breakdown (Good, Neutral, Bad)"
   ]
  },
  {
   "cell_type": "code",
   "execution_count": null,
   "id": "8aebba39",
   "metadata": {},
   "outputs": [],
   "source": [
    "def plot_stacked_bar_chart(df, title, xlabel, ylabel, cat_col, sent_col, order= None,legend_title='View'):\n",
    "    \"\"\"\n",
    "    Plots a stacked bar chart with percentages based on the grouping of two columns, \n",
    "    one for categories (e.g., education or religion)\n",
    "    and the other for sentiments.\n",
    "    \"\"\"\n",
    "    \n",
    "    plt.rcParams['figure.dpi'] = 300\n",
    "    \n",
    "    colors = {\n",
    "        'Good': '#8ccc87',\n",
    "        'Bad': '#ba3e2b',\n",
    "        'Neutral':'#d1cfcf'\n",
    "    }\n",
    "    \n",
    "    grouped = df.groupby([cat_col, sent_col]).size().unstack(fill_value=0)\n",
    "    \n",
    "    grouped_percentage = grouped.div(grouped.sum(axis=1), axis=0) * 100\n",
    "\n",
    "    ax = grouped_percentage.plot(kind='bar', stacked=True, figsize=(12, 8), \\\n",
    "                                 color=[colors[col] for col in grouped_percentage.columns])\n",
    "    # Add percentage annotations\n",
    "    for i, (colname, coldata) in enumerate(grouped_percentage.items()):\n",
    "        for index, value in enumerate(coldata):\n",
    "            if value > 0:  # Only annotate non-zero segments\n",
    "                ax.text(index, \n",
    "                        grouped_percentage.iloc[:index+1, :i+1].sum(axis=1)[index] - (value / 2), \n",
    "                        # Position the text in the center of the segment\n",
    "                        f\"{value:.1f}%\", \n",
    "                        ha='center', \n",
    "                        va='center', \n",
    "                        color='white' if colors[colname] == 'grey' else 'black', \n",
    "                        fontsize=8)\n",
    "\n",
    "\n",
    "    plt.title(title, fontsize=16)\n",
    "    plt.xlabel(xlabel, fontsize=14)\n",
    "    plt.ylabel(ylabel, fontsize=14)\n",
    "    plt.xticks(rotation=45, ha='right')\n",
    "\n",
    "    # Position the legend outside the plot\n",
    "    plt.legend(title=legend_title, bbox_to_anchor=(1.05, 1), loc='upper left')\n",
    "    plt.figure(figsize=(9, 5), dpi=800)\n",
    "    plt.savefig(f'images/{title}.png', dpi=300)\n",
    "    plt.show()"
   ]
  },
  {
   "cell_type": "markdown",
   "id": "bf83da35",
   "metadata": {},
   "source": [
    "# Function 3: Plotting Comfort Levels (%)"
   ]
  },
  {
   "cell_type": "code",
   "execution_count": null,
   "id": "319c1955",
   "metadata": {},
   "outputs": [],
   "source": [
    "def plot_comfort (df, category_col, comfort_level, title, xlabel, ylabel): \n",
    "    plt.rcParams['figure.dpi'] = 300\n",
    "    \n",
    "    grouped = df.groupby([category_col, comfort_level]).size().reset_index(name='count')\n",
    "    totals = grouped.groupby(category_col)['count'].transform('sum')\n",
    "    grouped['percentage'] = (grouped['count'] / totals) * 100\n",
    "\n",
    "    pivot_table = grouped.pivot(index=category_col, columns=comfort_level, values='percentage').fillna(0)\n",
    "\n",
    "    comfort_colors = {\n",
    "        'Very comfortable': '#17b50e',  \n",
    "        'Comfortable': '#9be897',       \n",
    "        'Neutral': '#e3e1e1',           \n",
    "        'Uncomfortable': '#cf4229',     \n",
    "        'Very uncomfortable': '#2ebf26'  \n",
    "    }\n",
    "\n",
    "\n",
    "\n",
    "    ax = pivot_table.plot(kind='bar', stacked=True, figsize=(10, 6), \\\n",
    "                          color=[comfort_colors.get(level) for level in pivot_table.columns])\n",
    "\n",
    "\n",
    "    plt.title(title)\n",
    "    plt.xlabel(xlabel)\n",
    "    plt.ylabel(ylabel)\n",
    "    plt.xticks(rotation=45, ha='right')\n",
    "    plt.legend(title='Comfort Level', bbox_to_anchor=(1.05, 1), loc='upper left')\n",
    "\n",
    "\n",
    "    for i, variable in enumerate(pivot_table.index):\n",
    "        cumulative_percentage = 0\n",
    "        for level in pivot_table.columns:\n",
    "            percentage = pivot_table.loc[variable, level]\n",
    "            if percentage > 0:\n",
    "                ax.text(\n",
    "                    i, cumulative_percentage + (percentage / 2),  \n",
    "                    f\"{percentage:.1f}%\", \n",
    "                    ha='center', va='center', color='white' if level == 'Very comfortable' else 'black', fontsize=9\n",
    "                )\n",
    "                cumulative_percentage += percentage\n",
    "    plt.savefig('images/title.png', dpi=300)\n",
    "    \n",
    "\n",
    "    plt.show()"
   ]
  },
  {
   "cell_type": "markdown",
   "id": "a23a30cd",
   "metadata": {},
   "source": [
    "## Overall Sentiment and Comfort Levels Across All Participants"
   ]
  },
  {
   "cell_type": "code",
   "execution_count": null,
   "id": "e7997341",
   "metadata": {},
   "outputs": [],
   "source": [
    "plot_percentages(apr25,'How do you feel about Muslim people in America?', 'Sentiment', \\\n",
    "                 'Public Opinion on Muslims is Divided Between Positive and Neutral (Apr 2025)')"
   ]
  },
  {
   "cell_type": "code",
   "execution_count": null,
   "id": "71ab65c5",
   "metadata": {},
   "outputs": [],
   "source": [
    "plot_percentages(apr25,'How comfortable do you feel interacting with Muslims in your community?', \"Comfort Level\",\\\n",
    "                 'Around 70% of Participants Feel Very Comfortable/Comfortable Around Muslims (Apr 2025)')"
   ]
  },
  {
   "cell_type": "code",
   "execution_count": null,
   "id": "7ebdabc7",
   "metadata": {},
   "outputs": [],
   "source": [
    "counts_df = apr25['How comfortable do you feel interacting with Muslims in your community?'].value_counts(normalize=True).reset_index()"
   ]
  },
  {
   "cell_type": "code",
   "execution_count": null,
   "id": "d799de80",
   "metadata": {},
   "outputs": [],
   "source": [
    "counts_df"
   ]
  },
  {
   "cell_type": "markdown",
   "id": "7a6bbc20",
   "metadata": {},
   "source": [
    "# Distribution of Religion"
   ]
  },
  {
   "cell_type": "code",
   "execution_count": null,
   "id": "330ec12d",
   "metadata": {},
   "outputs": [],
   "source": [
    "plot_percentages(apr25,'What is your religion?', 'Religion', 'Most Respondents Are Christian')"
   ]
  },
  {
   "cell_type": "code",
   "execution_count": null,
   "id": "36790330",
   "metadata": {},
   "outputs": [],
   "source": [
    "apr25['What is your religion?'].value_counts(normalize= True)"
   ]
  },
  {
   "cell_type": "code",
   "execution_count": null,
   "id": "67e45b9e",
   "metadata": {},
   "outputs": [],
   "source": [
    "apr25.loc[apr25['What is your religion?'] == 'Other (please specify)']['Religion_other']\n"
   ]
  },
  {
   "cell_type": "markdown",
   "id": "e8f7f1a3",
   "metadata": {},
   "source": [
    "# Religious Differences in Attitudes Toward Muslims"
   ]
  },
  {
   "cell_type": "code",
   "execution_count": null,
   "id": "cb3ce4e0",
   "metadata": {},
   "outputs": [],
   "source": [
    "plot_stacked_bar_chart(\n",
    "    df=apr25,  \n",
    "    title=' In April 2025, Most Religious Groups Viewed Muslims In a Positive or Neutral Way',\n",
    "    xlabel='Religion',\n",
    "    ylabel='% Responses',\n",
    "    cat_col='What is your religion?',\n",
    "    sent_col='How do you feel about Muslim people in America?',\n",
    ")"
   ]
  },
  {
   "cell_type": "markdown",
   "id": "e0f9087a",
   "metadata": {},
   "source": [
    "No group was overwhelmingly negative—most respondents across all groups held neutral or favorable views.\n",
    "\n",
    "Muslims themselves reported the most positive views (87.5%), followed by Jewish respondents (60%) and “Other” religious identities (53.3%).\n",
    "\n",
    "Christian groups showed more variation:\n",
    "\n",
    "Catholics and Evangelical Protestants leaned neutral or positive (with low \"bad\" ratings).\n",
    "\n",
    "Christian (Other) had the highest negative view (15.8%) among Christian subgroups.\n",
    "\n",
    "Hindus had a significant share of negative views (25%), the highest of any group shown. They seem to remain consistent with their views throughout the months surveyed\n",
    "\n",
    "Buddhists reported only neutral perceptions—100% of their responses were neither positive nor negative. In January 2025,Buddhists reported mixed feelings of both positive and neutral but it seems that the sentiment has shifted towards a more neutral side\n",
    "\n",
    "Atheists were almost evenly split: 44.4% positive, 55.6% neutral, with no negative sentiments\n",
    "\n"
   ]
  },
  {
   "cell_type": "markdown",
   "id": "73442458",
   "metadata": {},
   "source": [
    "# Breakdown of Comfort Level Across Religious Groups"
   ]
  },
  {
   "cell_type": "code",
   "execution_count": null,
   "id": "2b6650fd",
   "metadata": {},
   "outputs": [],
   "source": [
    "plot_comfort(\n",
    "    df= apr25, \n",
    "    category_col= 'What is your religion?',\n",
    "    comfort_level = 'How comfortable do you feel interacting with Muslims in your community?',\n",
    "    title='Most Religous Groups Are Comfortable Around Muslims. Christians Feel The Most Discomfort (Apr 25)',\n",
    "    xlabel='Religion',\n",
    "    ylabel='% Responses',\n",
    ")"
   ]
  },
  {
   "cell_type": "markdown",
   "id": "6430fd4a",
   "metadata": {},
   "source": [
    "\n",
    "Muslims again showed the highest internal comfort: 87.5% felt very comfortable.\n",
    "\n",
    "Jewish respondents also reported high comfort, with 80% very comfortable and 20% comfortable — 0% neutral or uncomfortable.\n",
    "\n",
    "Atheists were evenly split: 44.4% comfortable, 44.4% very comfortable, and only 11.1% neutral.\n",
    "\n",
    "Christian (Catholic) and Evangelical Protestants leaned toward comfort as well, though Catholics had a small percentage (4.2%) feeling uncomfortable.\n",
    "\n",
    "Christian (Other) respondents stood out with 10.5% feeling uncomfortable — the highest discomfort level among all groups.\n",
    "\n",
    "Buddhists and Hindus were entirely neutral (100%), suggesting uncertainty or unfamiliarity more than active discomfort.\n",
    "\n",
    "\"Other\" religions were split, with 66.7% comfortable/very comfortable and a significant 33.3% neutral.\n",
    "\n"
   ]
  },
  {
   "cell_type": "markdown",
   "id": "e7454f37",
   "metadata": {},
   "source": [
    "# Educational Differences in Attitudes Towards Muslims"
   ]
  },
  {
   "cell_type": "code",
   "execution_count": null,
   "id": "f3d4c00c",
   "metadata": {},
   "outputs": [],
   "source": [
    "plot_percentages(apr25,'What is your level of education?', 'Education',\n",
    "           'The Majority of Those Surveyed Hold Degrees In Higher Education')"
   ]
  },
  {
   "cell_type": "code",
   "execution_count": null,
   "id": "1eaa86e9",
   "metadata": {},
   "outputs": [],
   "source": [
    "plot_stacked_bar_chart(\n",
    "    df=apr25, \n",
    "    title='Favorable Views of Muslims Were Highest Among Respondents With Graduate Education (Apr 25)',\n",
    "    xlabel='Educational level',\n",
    "    ylabel='% Responses',\n",
    "    order = [\"High school or less\", \"Some College\", \"College\", \"Graduate school\"],\n",
    "    cat_col='What is your level of education?',\n",
    "    sent_col='How do you feel about Muslim people in America?'\n",
    ")"
   ]
  },
  {
   "cell_type": "markdown",
   "id": "30805f20",
   "metadata": {},
   "source": [
    "Graduate school respondents had the highest proportion of favorable views (60%) and the lowest share of negative views (4%).\n",
    "\n",
    "College and some college respondents also showed strong positivity (46–56%), with neutral responses fairly common.\n",
    "\n",
    "High school or less had the lowest favorable rating (31.6%) and the highest neutral response rate (63.2%), suggesting more uncertainty or lack of familiarity.\n",
    "\n",
    "Across all education levels, outright negative views remained low, ranging from 4% to 7.3%."
   ]
  },
  {
   "cell_type": "code",
   "execution_count": null,
   "id": "8db5f03f",
   "metadata": {},
   "outputs": [],
   "source": [
    "plot_comfort(\n",
    "    df= apr25, \n",
    "    category_col= 'What is your level of education?',\n",
    "    comfort_level = 'How comfortable do you feel interacting with Muslims in your community?',\n",
    "    title='Breakdown Of Comfort Levels Across Different Educational Levels (Apr 25)',\n",
    "    xlabel='Religion',\n",
    "    ylabel='% Responses',\n",
    ")"
   ]
  },
  {
   "cell_type": "markdown",
   "id": "e44c5eba",
   "metadata": {},
   "source": [
    "Between January and April 2025, reported discomfort toward Muslims emerged across all educational levels — with the exception of the “High School or Less” group — where previously no discomfort had been recorded.\n",
    "\n",
    "In the “College” group, there was a modest increase in neutral responses (from 30.8% to 34.1%), accompanied by a slight decline in both “Comfortable” and “Very Comfortable” sentiments. This shift suggests a growing sense of indifference, along with the introduction of some discomfort (2.4%).\n",
    "\n",
    "Among those with a graduate-level education, the data shows a notable 25-point increase in “Very Comfortable” responses (from 51.4% to 76%). However, this shift is not purely positive—there was also a small uptick in both neutrality and discomfort (from 0% to 4.0%).\n",
    "\n",
    "For respondents with “Some College” education, the percentage reporting “Very Comfortable” rose (from 36.4% to 50%), but this came alongside a drop in neutrality and the introduction of discomfort (5.6%), suggesting a mild polarization."
   ]
  },
  {
   "cell_type": "markdown",
   "id": "6a7107a6",
   "metadata": {},
   "source": [
    "# Age Differences in Attitudes Towards Muslims"
   ]
  },
  {
   "cell_type": "code",
   "execution_count": null,
   "id": "c219c2e3",
   "metadata": {},
   "outputs": [],
   "source": [
    "plot_percentages(apr25,'Age', 'Age',\n",
    "           'Around 60% Of Survey Partipants are aged 30-60 (Apr 25)')"
   ]
  },
  {
   "cell_type": "code",
   "execution_count": null,
   "id": "d3539117",
   "metadata": {},
   "outputs": [],
   "source": [
    "plot_stacked_bar_chart(\n",
    "    df=apr25, \n",
    "    title='Perception Of Muslims Across Different Age Groups (Apr 25)',\n",
    "    xlabel='Age',\n",
    "    ylabel='Percent of Responses',\n",
    "    cat_col='Age',\n",
    "    sent_col='How do you feel about Muslim people in America?'\n",
    ")"
   ]
  },
  {
   "cell_type": "markdown",
   "id": "babcea7a",
   "metadata": {},
   "source": [
    "Between January and April 2025, perceptions of Muslims shifted notably at both ends of the age spectrum.\n",
    "\n",
    "Among 18–29-year-olds, the proportion expressing negative views dropped from 4.8% to 0%, signaling a complete disappearance of negative sentiment in this group. However, this came with an increase in neutrality, possibly suggesting growing ambivalence.\n",
    "\n",
    "In contrast, among those 60 and older, negative sentiment rose sharply from 0% to 16%, accompanied by a drop in positive views. What was previously a near-even split between “Good” and “Neutral” is now more polarized, with a significant portion reporting negative views.\n",
    "\n",
    "For the 30–44 age group, there was a decline in positive sentiment (from 64.5% to 53.1%) and an increase in neutrality, indicating a shift away from strong positivity toward more neutral or uncertain views.\n",
    "\n",
    "The 45–60 age group stands out as the only segment that moved in a consistently positive direction, with “Good” responses rising from 37.9% to 54.8%, while neutrality decreased and negative views disappeared."
   ]
  },
  {
   "cell_type": "code",
   "execution_count": null,
   "id": "c4d727f7",
   "metadata": {},
   "outputs": [],
   "source": [
    "plot_comfort(\n",
    "    df= apr25, \n",
    "    category_col= 'Age',\n",
    "    comfort_level = 'How comfortable do you feel interacting with Muslims in your community?',\n",
    "    title='Breakdown Of Comfort Levels Across Different Ages (Apr 25)',\n",
    "    xlabel='Religion',\n",
    "    ylabel='% Responses',\n",
    ")"
   ]
  },
  {
   "cell_type": "markdown",
   "id": "a7f9ff58",
   "metadata": {},
   "source": [
    "Discomfort emerged only in the 60+ age group. All other groups maintained or increased their “very comfortable” stance. This is in comparison to the data obtained in January 2025"
   ]
  },
  {
   "cell_type": "markdown",
   "id": "999d1a6b",
   "metadata": {},
   "source": [
    "# Income-based Differences in Attitudes Towards Muslims"
   ]
  },
  {
   "cell_type": "code",
   "execution_count": null,
   "id": "eddbd5f9",
   "metadata": {},
   "outputs": [],
   "source": [
    "apr25['Household Income'].value_counts()"
   ]
  },
  {
   "cell_type": "code",
   "execution_count": null,
   "id": "2dfab81f",
   "metadata": {},
   "outputs": [],
   "source": [
    "income_mapping = {\"25000_to_49999\": \"25k-49k\",\n",
    "\"50000_to_74999\":\"50k-74k\",\n",
    "\"75000_to_99999\": \"75k-99k\",\n",
    "\"125000_to_149999\": \"125k-149k\",\n",
    "\"100000_to_124999\" :\"100k-124k\",\n",
    "\"0_to_9999\"        : \"0-9k\",\n",
    "\"no_answer\":    \"undisclosed\",\n",
    "\"150000_to_174999\":\"150k-174k\",\n",
    "\"10000_to_24999\" : \"10k-24k\",\n",
    "\"200000_and_up\":   \"200k_up\",\n",
    "\"175000_to_199999\": \"175k-199k\"}\n",
    "\n",
    "apr25['Household Income'] = apr25['Household Income'].replace(income_mapping)"
   ]
  },
  {
   "cell_type": "code",
   "execution_count": null,
   "id": "a79f78e3",
   "metadata": {},
   "outputs": [],
   "source": [
    "plot_percentages(apr25,'Household Income', 'Household Income',\n",
    "           'Most Survey Respondents Reported Household Incomes Between \\$25K and \\$49K')"
   ]
  },
  {
   "cell_type": "code",
   "execution_count": null,
   "id": "493f7589",
   "metadata": {},
   "outputs": [],
   "source": [
    "apr25['Household Income'].value_counts(normalize= True)"
   ]
  },
  {
   "cell_type": "code",
   "execution_count": null,
   "id": "4b3e5ecc",
   "metadata": {},
   "outputs": [],
   "source": [
    "income_brackets = { \"25k-49k\":'low',\n",
    "\"50k-74k\":\"mid\",\n",
    "\"75k-99k\":\"mid\",\n",
    "\"125k-149k\":\"mid\",\n",
    "\"100k-124k\":\"mid\",\n",
    " \"0-9k\":\"low\",\n",
    "\"undisclosed\":\"undisclosed\",\n",
    "\"150k-174k\":\"high\",\n",
    "\"10k-24k\":\"low\",\n",
    " \"200k_up\":\"high\",\n",
    "\"175k-199k\":\"high\"}"
   ]
  },
  {
   "cell_type": "code",
   "execution_count": null,
   "id": "d19ecc73",
   "metadata": {},
   "outputs": [],
   "source": [
    "apr25['Household_Income'] = apr25['Household Income'].replace(income_brackets)"
   ]
  },
  {
   "cell_type": "code",
   "execution_count": null,
   "id": "b6c53962",
   "metadata": {},
   "outputs": [],
   "source": [
    "def plot_income(df, title, xlabel, ylabel, cat_col, sent_col, legend_title='View', cat_order=None):\n",
    "\n",
    "\n",
    "    colors = {\n",
    "        'Good': '#8ccc87',\n",
    "        'Bad': '#ba3e2b',\n",
    "        'Neutral': '#d1cfcf'\n",
    "    }\n",
    "\n",
    "    if cat_order:\n",
    "        df[cat_col] = pd.Categorical(df[cat_col], categories=cat_order, ordered=True)\n",
    "\n",
    "    grouped = df.groupby([cat_col, sent_col]).size().unstack(fill_value=0)\n",
    "\n",
    "    grouped_percentage = grouped.div(grouped.sum(axis=1), axis=0) * 100\n",
    "\n",
    "    ax = grouped_percentage.plot(kind='bar', stacked=True, figsize=(12, 8), \n",
    "                                 color=[colors[col] for col in grouped_percentage.columns])\n",
    "    \n",
    "\n",
    "    for i, (colname, coldata) in enumerate(grouped_percentage.items()):\n",
    "        for index, value in enumerate(coldata):\n",
    "            if value > 0: \n",
    "                ax.text(index, \n",
    "                        grouped_percentage.iloc[:index+1, :i+1].sum(axis=1)[index] - (value / 2), \n",
    "                        f\"{value:.1f}%\", \n",
    "                        ha='center', \n",
    "                        va='center', \n",
    "                        color='white' if colors[colname] == 'grey' else 'black', \n",
    "                        fontsize=8)\n",
    "\n",
    "    plt.title(title, fontsize=16)\n",
    "    plt.xlabel(xlabel, fontsize=14)\n",
    "    plt.ylabel(ylabel, fontsize=14)\n",
    "    plt.xticks(rotation=45, ha='right')\n",
    "\n",
    "    plt.legend(title=legend_title, bbox_to_anchor=(1.05, 1), loc='upper left')\n",
    "    plt.show()"
   ]
  },
  {
   "cell_type": "code",
   "execution_count": null,
   "id": "f8a1f792",
   "metadata": {},
   "outputs": [],
   "source": [
    "order = ['low','mid','high', 'undisclosed']\n",
    "\n",
    "plot_income(\n",
    "    df=apr25, \n",
    "    title='Income-based Varations in Perceptions of Muslims (April 2025)',\n",
    "    xlabel='Household Income',\n",
    "    ylabel='Responses %',\n",
    "    cat_col='Household_Income',\n",
    "    sent_col='How do you feel about Muslim people in America?',\n",
    "    cat_order=order\n",
    ")"
   ]
  },
  {
   "cell_type": "markdown",
   "id": "ef2c1cc1",
   "metadata": {},
   "source": [
    "Negative perceptions of Muslims have not only persisted but shifted across income groups between October 2024 and April 2025.\n",
    "\n",
    "In October 2024, negative sentiment was reported across a wide range of income brackets,including both low-income groups (e.g., 0–9k and 10k–24k) and higher-income groups (e.g., 100k–124k, 150k–174k, and even 200k+).\n",
    "\n",
    "By January 2025, many of these negative views had disappeared, with only two income brackets showing any disapprova (25k-49k and 50k-75k)\n",
    "\n",
    "However, in April 2025, we observe a reemergence and redistribution of negative sentiment—this time more concentrated in the middle-income ranges (50k–74k, 100k–124k, $undisclosed) and absent in the higher brackets (150k+), indicating that discomfort did not vanish but shifted socioeconomically.\n",
    "\n",
    "This trend suggests that attitudes are fluid, and while negativity receded temporarily in January, it returned in April, albeit among different income groups.\n"
   ]
  },
  {
   "cell_type": "code",
   "execution_count": null,
   "id": "1ab34a4e",
   "metadata": {},
   "outputs": [],
   "source": [
    "plot_comfort(\n",
    "    df= apr25, \n",
    "    category_col= 'Household Income',\n",
    "    comfort_level = 'How comfortable do you feel interacting with Muslims in your community?',\n",
    "    title='Breakdown Of Comfort Levels Across Different Income Groups (Apr 25)',\n",
    "    xlabel='Household Income',\n",
    "    ylabel='% Responses',\n",
    ")"
   ]
  },
  {
   "cell_type": "markdown",
   "id": "1d1d8713",
   "metadata": {},
   "source": [
    "Higher-income brackets, particularly those earning between 175K–199K and 200K or more, showed the highest levels of comfort, with 100% of respondents in the 175K–199K group reporting feeling \"very comfortable.\" \n",
    "Meanwhile, lower and middle-income groups such as 50K–74K and 100K–124K exhibited the most discomfort, with 11.1% and 8.3% of respondents, respectively, reporting feeling \"uncomfortable.\"\n",
    "\n",
    "While most income brackets leaned toward positive sentiment, the data also show that neutral responses were fairly common, particularly among those in the 0-9K and 25K–49K ranges, suggesting a more ambivalent stance in these groups"
   ]
  },
  {
   "cell_type": "markdown",
   "id": "7aaa5bad",
   "metadata": {},
   "source": [
    "# Regional Differences in Perceptions Of Muslims"
   ]
  },
  {
   "cell_type": "code",
   "execution_count": null,
   "id": "0a78161f",
   "metadata": {},
   "outputs": [],
   "source": [
    "plot_percentages(apr25,'Major US Region', 'Major US Region',\n",
    "                 'Highest Proportion of Particpants Reside in The Pacific States')"
   ]
  },
  {
   "cell_type": "code",
   "execution_count": null,
   "id": "c5cc8d26",
   "metadata": {},
   "outputs": [],
   "source": [
    "plot_stacked_bar_chart(\n",
    "    df=apr25, \n",
    "    title='Regional Differences in Perceptions of Muslims (Apr 25)',\n",
    "    xlabel='Major US Region',\n",
    "    ylabel='Percent of Responses',\n",
    "    cat_col='Major US Region',\n",
    "    sent_col='How do you feel about Muslim people in America?'\n",
    ")"
   ]
  },
  {
   "cell_type": "markdown",
   "id": "7a8d6b8c",
   "metadata": {},
   "source": [
    "Unfavorable views were most concentrated in the West South Central region, which includes Arkansas, Louisiana, Oklahoma, and Texas, where 20% of respondents reported negative perceptions of Muslims. The South Atlantic region—comprising Delaware, Maryland, Virginia, West Virginia, North Carolina, South Carolina, Georgia, Florida, and Washington, D.C.—followed with 13.3% expressing unfavorable views.\n",
    "\n",
    "In contrast, the West North Central region (Iowa, Kansas, Minnesota, Missouri, Nebraska, North Dakota, and South Dakota) stood out for its high positivity, with nearly 73% of respondents reporting favorable views and only 27% expressing neutrality—no respondents in this region reported negative views. Similarly, the Middle Atlantic region (New York, New Jersey, and Pennsylvania) and the Mountain region (e.g., Arizona, Colorado, Utah) showed relatively high levels of favorable sentiment and low levels of negative sentiment."
   ]
  },
  {
   "cell_type": "code",
   "execution_count": null,
   "id": "f2eac5ba",
   "metadata": {},
   "outputs": [],
   "source": [
    "plot_comfort(\n",
    "    df= apr25, \n",
    "    category_col= 'Major US Region',\n",
    "    comfort_level = 'How comfortable do you feel interacting with Muslims in your community?',\n",
    "    title='Breakdown Of Comfort Levels Across Different US Regions(Apr 25)',\n",
    "    xlabel='Household Income',\n",
    "    ylabel='% Responses',\n",
    ")"
   ]
  },
  {
   "cell_type": "markdown",
   "id": "ebe5c1af",
   "metadata": {},
   "source": [
    "# Relationship Between Knowing a Muslim and Sentiment"
   ]
  },
  {
   "cell_type": "code",
   "execution_count": null,
   "id": "11034530",
   "metadata": {},
   "outputs": [],
   "source": [
    "plot_percentages(apr25,'How many muslim people have you talked to in the last 7 days?', 'Number of Muslims',\\\n",
    "           '55% Of Respondents Have Spoken to a Muslim in the last 7 days (Apr 25)')"
   ]
  },
  {
   "cell_type": "code",
   "execution_count": null,
   "id": "7f0c0014",
   "metadata": {},
   "outputs": [],
   "source": [
    "def plot_stacked_bar_chart_interaction(df, title, xlabel, ylabel, cat_col, sent_col, legend_title='View'):\n",
    "    \"\"\"\n",
    "    Plots a stacked bar chart with percentages based on the grouping of two columns, \n",
    "    one for categories (e.g., education or religion)\n",
    "    and the other for sentiments.\n",
    "    \"\"\"\n",
    "    \n",
    "    colors = {\n",
    "        'Good': '#8ccc87',\n",
    "        'Bad': '#ba3e2b',\n",
    "        'Neutral':'#d1cfcf'\n",
    "    }\n",
    "    interaction_order = [\"None - 0\", \"1\", \"2 to 4\", \"5 to 10\", \"More than 10\"]\n",
    "    \n",
    "    grouped = df.groupby([cat_col, sent_col]).size().unstack(fill_value=0)\n",
    "\n",
    "    grouped = grouped.reindex(interaction_order)\n",
    "    \n",
    "    grouped_percentage = grouped.div(grouped.sum(axis=1), axis=0) * 100\n",
    "\n",
    "    ax = grouped_percentage.plot(kind='bar', stacked=True, figsize=(12, 8), \\\n",
    "                                 color=[colors[col] for col in grouped_percentage.columns])\n",
    "    # Add percentage annotations\n",
    "    for i, (colname, coldata) in enumerate(grouped_percentage.items()):\n",
    "        for index, value in enumerate(coldata):\n",
    "            if value > 0:  # Only annotate non-zero segments\n",
    "                ax.text(index, \n",
    "                        grouped_percentage.iloc[:index+1, :i+1].sum(axis=1)[index] - (value / 2), \n",
    "                        # Position the text in the center of the segment\n",
    "                        f\"{value:.1f}%\", \n",
    "                        ha='center', \n",
    "                        va='center', \n",
    "                        color='white' if colors[colname] == 'grey' else 'black', \n",
    "                        fontsize=8)\n",
    "\n",
    "\n",
    "    plt.title(title, fontsize=16)\n",
    "    plt.xlabel(xlabel, fontsize=14)\n",
    "    plt.ylabel(ylabel, fontsize=14)\n",
    "    plt.xticks(rotation=45, ha='right')\n",
    "\n",
    "    # Position the legend outside the plot\n",
    "    plt.legend(title=legend_title, bbox_to_anchor=(1.05, 1), loc='upper left')\n",
    "    plt.figure(figsize=(9, 5), dpi=800)\n",
    "    plt.show()"
   ]
  },
  {
   "cell_type": "code",
   "execution_count": null,
   "id": "ae850c7b",
   "metadata": {},
   "outputs": [],
   "source": [
    "plot_stacked_bar_chart_interaction(\n",
    "    df=apr25, \n",
    "    title='How Encounters With Muslims Shape Perceptions (Apr 2025)',\n",
    "    xlabel='Number of Muslims',\n",
    "    ylabel='% Responses',\n",
    "    cat_col='How many muslim people have you talked to in the last 7 days?',\n",
    "    sent_col='How do you feel about Muslim people in America?'\n",
    ")"
   ]
  },
  {
   "cell_type": "code",
   "execution_count": null,
   "id": "63164422",
   "metadata": {},
   "outputs": [],
   "source": [
    "cat_col= 'How many muslim people have you talked to in the last 7 days?'\n",
    "sent_col= 'How do you feel about Muslim people in America?'\n",
    "grouped = apr25.groupby([cat_col, sent_col]).size().unstack(fill_value=0)\n",
    "    \n",
    "grouped_percentage_apr = grouped.div(grouped.sum(axis=1), axis=0) * 100"
   ]
  },
  {
   "cell_type": "code",
   "execution_count": null,
   "id": "48e1a81f",
   "metadata": {},
   "outputs": [],
   "source": [
    "grouped_percentage_apr"
   ]
  },
  {
   "cell_type": "markdown",
   "id": "96b84455",
   "metadata": {},
   "source": [
    "Positive perceptions of Muslims increased with the number of interactions, peaking among those who interacted with 5 to 10 Muslims. Interestingly, respondents with more than 10 encounters reported a balanced mix of positive and neutral views. \n",
    "\n",
    "Those who interacted with just one Muslim showed slightly higher levels of unfavorable views than those with no interactions, but overall held more positive attitudes."
   ]
  },
  {
   "cell_type": "code",
   "execution_count": null,
   "id": "95724d3b",
   "metadata": {},
   "outputs": [],
   "source": [
    "counts = apr25.groupby(['How many muslim people have you talked to in the last 7 days?', \n",
    "                        'What is your religion?']).size().unstack()\n",
    "\n",
    "# Convert counts to percentages\n",
    "percentages = counts.div(counts.sum(axis=1), axis=0) * 100\n",
    "\n",
    "# Plotting\n",
    "percentages.plot(kind='bar', stacked=True, figsize=(10, 7), \\\n",
    "                 color= ['red','green','blue','orange','purple','black','grey','brown','pink','cyan','olive'])\n",
    "\n",
    "plt.title(\"Number of Interactions With Muslims in The Last 7 Days by Respondent's Religion (Apr 2025)\")\n",
    "plt.xlabel(\"Number of Muslim People Talked To\")\n",
    "plt.ylabel(\"Percentage of Respondents\")\n",
    "plt.xticks(rotation=45, ha='right') \n",
    "\n",
    "plt.legend(title=\"Religion\", bbox_to_anchor=(1.05, 1), loc='upper left')\n",
    "plt.show()"
   ]
  },
  {
   "cell_type": "markdown",
   "id": "e0d72d55",
   "metadata": {},
   "source": [
    "# Relationship Between Primary News Source and Sentiment"
   ]
  },
  {
   "cell_type": "code",
   "execution_count": null,
   "id": "44efaa95",
   "metadata": {},
   "outputs": [],
   "source": [
    "plot_stacked_bar_chart(\n",
    "    df=apr25, \n",
    "    title='Relationship Between Primary News Source And Public Sentiment (Apr 2025)',\n",
    "    xlabel='News Source',\n",
    "    ylabel='% Responses',\n",
    "    cat_col= 'Where do you get your news from?',\n",
    "    sent_col='How do you feel about Muslim people in America?'\n",
    ")"
   ]
  },
  {
   "cell_type": "markdown",
   "id": "b6aa193b",
   "metadata": {},
   "source": [
    "Fox news viewers showed the greatest shift in sentiment between January and April 2025. Unfavorable views rose sharply from 11% to 30%, while positive sentiment declined signicantly (from 47% to 0%).\n",
    "In contrast, CNN audiences remained largely stable, with consistently high levels of positive perception and minimal change over time. Facebook users also held steady, showing a slight increase in favorable views. Viewers of Google News and NPR reported more positive attitudes in April than in January, while sentiment among YouTube users became more negative, with a drop in favorable responses and a rise in unfavorable ones."
   ]
  },
  {
   "cell_type": "code",
   "execution_count": null,
   "id": "ae8c2cca",
   "metadata": {},
   "outputs": [],
   "source": [
    "apr25[apr25['Where do you get your news from?']== 'Other (please specify)']['News_other']"
   ]
  },
  {
   "cell_type": "code",
   "execution_count": null,
   "id": "763893fa",
   "metadata": {},
   "outputs": [],
   "source": [
    "plot_comfort(\n",
    "    df= apr25, \n",
    "    category_col= 'Where do you get your news from?',\n",
    "    comfort_level = 'How comfortable do you feel interacting with Muslims in your community?',\n",
    "    title='Breakdown Of Comfort Levels Across Different News Sources (Apr 2025)',\n",
    "    xlabel='News Source',\n",
    "    ylabel='% Responses',\n",
    ")"
   ]
  },
  {
   "cell_type": "markdown",
   "id": "e35ac619",
   "metadata": {},
   "source": [
    "Negative perceptions of Muslims did not necessarily align with discomfort in interactions. For example, 40% of FOX News viewers reported feeling either comfortable or very comfortable around Muslims, despite 30% expressing unfavorable views. The remaining respondents were split between neutrality (40%) and discomfort (20%). In contrast, comfort levels increased among CNN, Facebook, and Reddit users compared to January 2025, suggesting a growing ease with Muslims among audiences of those platforms."
   ]
  },
  {
   "cell_type": "markdown",
   "id": "ceb3df38",
   "metadata": {},
   "source": [
    "# Relationship Between Exposure to Positive Portrayal and Overall Sentiment"
   ]
  },
  {
   "cell_type": "code",
   "execution_count": null,
   "id": "db8492a8",
   "metadata": {},
   "outputs": [],
   "source": [
    "plot_stacked_bar_chart(\n",
    "    df=apr25, \n",
    "    title='Relationship Between Positive Media Portrayal and Sentiment (Apr 2025)',\n",
    "    xlabel='Frequency',\n",
    "    ylabel='% Responses',\n",
    "    cat_col= 'How often do you hear positive things about Muslims in the media?',\n",
    "    sent_col='How do you feel about Muslim people in America?'\n",
    ")"
   ]
  },
  {
   "cell_type": "code",
   "execution_count": null,
   "id": "578f702e",
   "metadata": {},
   "outputs": [],
   "source": [
    "plot_percentages(apr25,'How often do you hear positive things about Muslims in the media?', 'How often do you hear positive things about Muslims in the media?',\n",
    "           'Only 25% Of Respondents Reported Seeing Positive Stories About Muslims in the Media (Apr 2025)')"
   ]
  },
  {
   "cell_type": "markdown",
   "id": "6bbbe8dd",
   "metadata": {},
   "source": [
    "# Relationship between Gender and Sentiment"
   ]
  },
  {
   "cell_type": "code",
   "execution_count": null,
   "id": "e64e0005",
   "metadata": {},
   "outputs": [],
   "source": [
    "plot_percentages(apr25,'Gender', 'Gender',\n",
    "           'Close to 60% of the Survey Participants Were Women (Apr 2025)')"
   ]
  },
  {
   "cell_type": "code",
   "execution_count": null,
   "id": "c00f0c98",
   "metadata": {},
   "outputs": [],
   "source": [
    "plot_stacked_bar_chart(\n",
    "    df=apr25, \n",
    "    title='Relationship Between Gender And Public Sentiment (Apr 2025)',\n",
    "    xlabel='Gender',\n",
    "    ylabel='% Responses',\n",
    "    cat_col= 'Gender',\n",
    "    sent_col='How do you feel about Muslim people in America?'\n",
    ")"
   ]
  },
  {
   "cell_type": "markdown",
   "id": "82baf926",
   "metadata": {},
   "source": [
    "Since January 2025, the proportion of men expressing negative views about Muslims in America has more than doubled (5% to 11.6%). Meanwhile, sentiment among women has shifted slightly towards a more positive and neutral side, with a decline in negative perception"
   ]
  },
  {
   "cell_type": "code",
   "execution_count": null,
   "id": "0785048c",
   "metadata": {},
   "outputs": [],
   "source": [
    "plot_percentages(apr25, 'How comfortable do you feel interacting with Muslims in your community?', \\\n",
    "                 'Comfort Level', '~70% of Survey Participants Are Comfortable and Very comfortable Around Muslims (Apr 2025)')"
   ]
  },
  {
   "cell_type": "code",
   "execution_count": null,
   "id": "bc265017",
   "metadata": {},
   "outputs": [],
   "source": [
    "plot_comfort(\n",
    "    df= apr25, \n",
    "    category_col= 'Gender',\n",
    "    comfort_level = 'How comfortable do you feel interacting with Muslims in your community?',\n",
    "    title='Breakdown Of Comfort Levels Across Genders (April 2025)',\n",
    "    xlabel='Gender',\n",
    "    ylabel='% Responses',\n",
    ")"
   ]
  },
  {
   "cell_type": "markdown",
   "id": "d87328a6",
   "metadata": {},
   "source": [
    "Overall, women are more comfortable around Muslims than men. Since Jan 2025, there has been an increase in the level of comfort among women, noted by the \"Very Comfortable\" category. In contrast,  men's comfort levels have dropped as more men are expressing discomfort or neutrality towards Muslims."
   ]
  },
  {
   "cell_type": "markdown",
   "id": "8cc13fe9",
   "metadata": {},
   "source": [
    "# Exposure to Positive Portrayals of Muslims in the Media"
   ]
  },
  {
   "cell_type": "code",
   "execution_count": null,
   "id": "38c70494",
   "metadata": {},
   "outputs": [],
   "source": [
    "plot_percentages(apr25, 'How often do you hear positive things about Muslims in the media?', 'Frequency',\\\n",
    "                  'Exposure to Positive Portrayals of Muslims in the Media (Apr 25)' )"
   ]
  },
  {
   "cell_type": "markdown",
   "id": "5b1bb346",
   "metadata": {},
   "source": [
    "Between January and April 2025, the number of people who reported seeing positive media stories about Muslims more than doubled—from under 10% to over 20%. \n",
    "Meanwhile, the share of respondents who said they were unsure about their exposure remained largely unchanged"
   ]
  },
  {
   "cell_type": "code",
   "execution_count": null,
   "id": "24af546b",
   "metadata": {},
   "outputs": [],
   "source": [
    "def plot_exposure(df, category_col, exposure_level, title, xlabel, ylabel): \n",
    "    \n",
    "    grouped = df.groupby([category_col, exposure_level]).size().reset_index(name='count')\n",
    "    totals = grouped.groupby(category_col)['count'].transform('sum')\n",
    "    grouped['percentage'] = (grouped['count'] / totals) * 100\n",
    "\n",
    "    pivot_table = grouped.pivot(index=category_col, columns=exposure_level, values='percentage').fillna(0)\n",
    "\n",
    "    exposure_colors = {\n",
    "        'Often': '#17b50e',            \n",
    "        'Not Often': '#cf4229',     \n",
    "        \"I don't know\": '#9db0f2' \n",
    "    }\n",
    "\n",
    "    ax = pivot_table.plot(kind='bar', stacked=True, figsize=(10, 6), \n",
    "                          color=[exposure_colors.get(level, '#cccccc') for level in pivot_table.columns])\n",
    "\n",
    "\n",
    "    plt.title(title)\n",
    "    plt.xlabel(xlabel)\n",
    "    plt.ylabel(ylabel)\n",
    "    plt.xticks(rotation=45, ha='right')\n",
    "    plt.legend(title='Exposure Level', bbox_to_anchor=(1.05, 1), loc='upper left')\n",
    "\n",
    "    for i, category in enumerate(pivot_table.index):\n",
    "        cumulative_percentage = 0\n",
    "        for level in pivot_table.columns:\n",
    "            percentage = pivot_table.loc[category, level]\n",
    "            if percentage > 0:\n",
    "                ax.text(\n",
    "                    i, cumulative_percentage + (percentage / 2),  # Position in the middle of each segment\n",
    "                    f\"{percentage:.1f}%\", \n",
    "                    ha='center', va='center', color='white' if level == 'Often' else 'black', fontsize=9\n",
    "                )\n",
    "                cumulative_percentage += percentage\n",
    "    plt.figure(figsize=(9, 5), dpi=400)\n",
    "    plt.show()"
   ]
  },
  {
   "cell_type": "code",
   "execution_count": null,
   "id": "db45221b",
   "metadata": {},
   "outputs": [],
   "source": [
    "plot_exposure(\n",
    "    df= apr25, \n",
    "    category_col= 'Where do you get your news from?',\n",
    "    exposure_level = 'How often do you hear positive things about Muslims in the media?',\n",
    "    title='Breakdown Of Positive Expsoures Through Media Across Different News Outlets (Apr 2025)',\n",
    "    xlabel='News',\n",
    "    ylabel='% Responses',\n",
    ")"
   ]
  },
  {
   "cell_type": "markdown",
   "id": "854bc491",
   "metadata": {},
   "source": [
    "Fox News users don’t report the lowest exposure to positive portrayals; 20% say they’ve seen positive stories about Muslims, yet they report the highest levels of discomfort. \n",
    "In contrast, NPR users report the lowest exposure to positive portrayals but express the highest levels of comfort around Muslims. \n",
    "\n",
    "Meanwhile, Facebook users report the most exposure to positive portrayals (52%), but their comfort levels don’t stand out compared to other groups"
   ]
  },
  {
   "cell_type": "markdown",
   "id": "ca6dbc46",
   "metadata": {},
   "source": [
    "# Breakdown of Comfort Levels Across Education¶"
   ]
  },
  {
   "cell_type": "code",
   "execution_count": null,
   "id": "1790afb5",
   "metadata": {},
   "outputs": [],
   "source": [
    "plot_comfort(\n",
    "    df= apr25, \n",
    "    category_col= 'What is your level of education?',\n",
    "    comfort_level = 'How comfortable do you feel interacting with Muslims in your community?',\n",
    "    title='Breakdown Of Comfort Levels Across Different Educational Levels (April 25)',\n",
    "    xlabel='Education',\n",
    "    ylabel='% Responses',\n",
    ")"
   ]
  },
  {
   "cell_type": "markdown",
   "id": "96ed47ff",
   "metadata": {},
   "source": [
    "In April 2025, discomfort toward Muslims reemerged (was absent in January 2025) across three educational groups—'Some College', 'College', and 'Graduate School' with'Some College' group reporting the highest level of discomfort (5.6%). \n",
    "\n",
    "Despite this, respondents with graduate-level education reported the highest proportion of being 'Very comfortable' (76%), suggesting a strong overall sense of ease despite some malaise. Conversely, individuals with a high school education or less reported the lowest percentage of 'Very comfortable' responses and the second-highest level of neutrality, indicating greater ambivalence or uncertainty in their view"
   ]
  },
  {
   "cell_type": "code",
   "execution_count": null,
   "id": "4f9bb521",
   "metadata": {},
   "outputs": [],
   "source": [
    "plot_stacked_bar_chart(\n",
    "    df=apr25, \n",
    "    title='Relationship Between Education And Public Sentiment (April 2025)',\n",
    "    xlabel='Education',\n",
    "    ylabel='% Responses',\n",
    "    cat_col= 'What is your level of education?',\n",
    "    sent_col='How do you feel about Muslim people in America?'\n",
    ")"
   ]
  },
  {
   "cell_type": "markdown",
   "id": "81aca3b8",
   "metadata": {},
   "source": [
    "Respondents at opposite ends of the educational spectrum, those with graduate-level education and those with a high school education or less, exhibited contrasting sentiment patterns. \n",
    "While graduate-educated individuals reported the highest proportion of positive views and the lowest negative sentiment, those with the least education demonstrated the greatest levels of neutrality and the lowest share of positive sentiment. "
   ]
  },
  {
   "cell_type": "code",
   "execution_count": null,
   "id": "e6e0f451",
   "metadata": {},
   "outputs": [],
   "source": [
    "plot_percentages(apr25,'What is your level of education?', 'Educational levels',\\\n",
    "           'Most Respondents Are College and Graduate School Educated (Apr 25)')"
   ]
  },
  {
   "cell_type": "markdown",
   "id": "f1825787",
   "metadata": {},
   "source": [
    "# Distribution Of Sentiment Across Different Ages"
   ]
  },
  {
   "cell_type": "code",
   "execution_count": null,
   "id": "8d41e6d0",
   "metadata": {},
   "outputs": [],
   "source": [
    "plot_stacked_bar_chart(\n",
    "    df=apr25, \n",
    "    title='Relationship Between Age And Public Sentiment (April 2025)',\n",
    "    xlabel='Age',\n",
    "    ylabel='% Responses',\n",
    "    cat_col= 'Age',\n",
    "    sent_col='How do you feel about Muslim people in America?'\n",
    ")"
   ]
  },
  {
   "cell_type": "markdown",
   "id": "1959f045",
   "metadata": {},
   "source": [
    "In January 2025, respondents in the older age group of 60 and above were almost evenly split between positive perception and neutral perception, however, the trend shifted in April with more respondents expressing negative views.\n",
    "The younger age group reverted back to being divided between good and neural with no negative views recorded"
   ]
  },
  {
   "cell_type": "code",
   "execution_count": null,
   "id": "ea773bfe",
   "metadata": {},
   "outputs": [],
   "source": [
    "plot_comfort(\n",
    "    df= apr25, \n",
    "    category_col= 'Age',\n",
    "    comfort_level = 'How comfortable do you feel interacting with Muslims in your community?',\n",
    "    title='Breakdown Of Comfort Levels Across Different Ages (April 25)',\n",
    "    xlabel='Age',\n",
    "    ylabel='% Responses',\n",
    ")"
   ]
  },
  {
   "cell_type": "markdown",
   "id": "b556c841",
   "metadata": {},
   "source": [
    "In April 2025, respondents aged 30–44 reported the highest overall comfort levels with Muslims, with over 80% expressing that they felt either comfortable or very comfortable. In contrast, the 60+ age group showed the lowest levels of comfort and the highest reported discomfort (12%), marking a notable decline from January 2025 when none in this age group reported discomfort and over 70% reported feeling comfortable"
   ]
  },
  {
   "cell_type": "markdown",
   "id": "8d8d9a3a",
   "metadata": {},
   "source": [
    "# Distribution of Sentiment Across Different Income Groups"
   ]
  },
  {
   "cell_type": "code",
   "execution_count": null,
   "id": "cbf2da12",
   "metadata": {},
   "outputs": [],
   "source": [
    "income_percentages = apr25['Household Income'].value_counts(normalize=True).sort_index() * 100\n",
    "\n",
    "income_percentages.plot(kind='bar', figsize=(8, 6), color='pink', width= 0.9, edgecolor='black')\n",
    "plt.xlabel('Income Category')\n",
    "plt.ylabel('Percentage')\n",
    "plt.title('Income Distribution')\n",
    "plt.show()"
   ]
  },
  {
   "cell_type": "code",
   "execution_count": null,
   "id": "f3a8dc2b",
   "metadata": {},
   "outputs": [],
   "source": [
    "plot_stacked_bar_chart(\n",
    "    df=apr25, \n",
    "    title='Relationship Between Income And Public Sentiment (April 2025)',\n",
    "    xlabel='Household Income',\n",
    "    ylabel='% Responses',\n",
    "    cat_col= 'Household Income',\n",
    "    sent_col='How do you feel about Muslim people in America?'\n",
    ")"
   ]
  },
  {
   "cell_type": "code",
   "execution_count": null,
   "id": "2439cb44",
   "metadata": {},
   "outputs": [],
   "source": [
    "plot_comfort(\n",
    "    df= apr25, \n",
    "    category_col= 'Household Income',\n",
    "    comfort_level = 'How comfortable do you feel interacting with Muslims in your community?',\n",
    "    title='Breakdown Of Comfort Levels Across Income Groups (April 25)',\n",
    "    xlabel='Income',\n",
    "    ylabel='% Responses',\n",
    ")"
   ]
  },
  {
   "cell_type": "markdown",
   "id": "54b84408",
   "metadata": {},
   "source": [
    "As of April 2025, a greater number of income brackets, particularly those in the low to mid range, reported holding negative views of Muslims in America compared to January. \n",
    "\n",
    "In contrast, individuals in higher income groups tended to express either positive or neutral sentiment, with few reporting explicitly negative views. This trend also holds with comfort levels."
   ]
  },
  {
   "cell_type": "code",
   "execution_count": null,
   "id": "df061726",
   "metadata": {},
   "outputs": [],
   "source": [
    "apr25.columns"
   ]
  },
  {
   "cell_type": "markdown",
   "id": "66c3a75d",
   "metadata": {},
   "source": [
    "# Effect Of Exposure Through Events On Overall Sentiment"
   ]
  },
  {
   "cell_type": "code",
   "execution_count": null,
   "id": "e96a9665",
   "metadata": {},
   "outputs": [],
   "source": [
    "column_name= 'In the last 30 days, have you come across any events or activities \\\n",
    "sponsored by a Muslim person or organization?'\n",
    "df= apr25\n",
    "x_label= \"Have You Seen an Event Sponsored by A Muslim Organization?\"\n",
    "title= \"Distribution Of Exposure to Muslim-Sponsored Events\"\n",
    "    \n",
    "plot_percentages(df, column_name, x_label, title)"
   ]
  },
  {
   "cell_type": "code",
   "execution_count": null,
   "id": "ad28386b",
   "metadata": {},
   "outputs": [],
   "source": [
    "plot_stacked_bar_chart(\n",
    "    df=apr25, \n",
    "    title=\"Exposure to Muslim-Sponsored Events Linked to More Positive Perceptions (April 2025)\",\n",
    "    xlabel='Exposure to Muslim- Sponsored Event',\n",
    "    ylabel='% Responses',\n",
    "    cat_col= 'In the last 30 days, have you come across any events or activities sponsored by a Muslim person or organization?',\n",
    "    sent_col='How do you feel about Muslim people in America?'\n",
    ")"
   ]
  },
  {
   "cell_type": "code",
   "execution_count": null,
   "id": "f03921c0",
   "metadata": {},
   "outputs": [],
   "source": [
    "apr25.columns"
   ]
  },
  {
   "cell_type": "code",
   "execution_count": null,
   "id": "d21d5c56",
   "metadata": {},
   "outputs": [],
   "source": [
    "apr25.loc[apr25['What is your religion?']=='Muslim']\\\n",
    "['In the last 30 days, have you come across any events or activities sponsored by a Muslim person or organization?'].value_counts()"
   ]
  },
  {
   "cell_type": "code",
   "execution_count": null,
   "id": "70bbcb91",
   "metadata": {},
   "outputs": [],
   "source": [
    "apr25.groupby(['What is your religion?','In the last 30 days, have you come across any events or activities sponsored by a Muslim person or organization?']).size().unstack(fill_value=0)"
   ]
  },
  {
   "cell_type": "markdown",
   "id": "3f50805e",
   "metadata": {},
   "source": [
    "Compared to January, respondents who encountered Muslim-sponsored events in April 2025 remained the most likely to express positive views of Muslims (80.6%). However, unlike in January, this group also reported the lowest levels of negative sentiment (3.2%). In contrast, individuals who had not encountered such events were more likely to feel neutral or hold unfavorable views, suggesting that lack of exposure may be associated with more detached or negative attitudes"
   ]
  },
  {
   "cell_type": "code",
   "execution_count": null,
   "id": "3bc46589",
   "metadata": {},
   "outputs": [],
   "source": [
    "column_name='Would you feel comfortable buying goods or services from a Muslim-owned business?'\n",
    "df= apr25\n",
    "x_label= \"Are You Comfortable Buying Goods From Muslims?\"\n",
    "title= \"The Overwhelming Majority Of People Are Comfortable Buying Goods From Muslims (April 2025)\"\n",
    "    \n",
    "plot_percentages(df, column_name, x_label, title)"
   ]
  },
  {
   "cell_type": "code",
   "execution_count": null,
   "id": "366444b6",
   "metadata": {},
   "outputs": [],
   "source": [
    "column_name= \"If a Muslim invited you to go to a mosque (Muslims' place of worship), would you go?\"\n",
    "df= apr25\n",
    "x_label= \"Would You Go To A Mosque if Invited (April 2025)?\"\n",
    "title= \"Split Opinions on Visiting a Mosque if Invited (April 2025)\"\n",
    "\n",
    "plot_percentages(df, column_name, x_label, title)\n"
   ]
  },
  {
   "cell_type": "code",
   "execution_count": null,
   "id": "fb89ca62",
   "metadata": {},
   "outputs": [],
   "source": [
    "ct = pd.crosstab(\n",
    "    apr25[\"What is your religion?\"],\n",
    "    apr25[\"If a Muslim invited you to go to a mosque (Muslims' place of worship), would you go?\"],\n",
    "    normalize='index' \n",
    ")*100\n",
    "ct = ct[[\"Yes\", \"No\"]] "
   ]
  },
  {
   "cell_type": "code",
   "execution_count": null,
   "id": "90835cb0",
   "metadata": {},
   "outputs": [],
   "source": [
    "ct"
   ]
  },
  {
   "cell_type": "code",
   "execution_count": null,
   "id": "e9a4c0dd",
   "metadata": {},
   "outputs": [],
   "source": [
    "colors = ['#9FE2BF', \"#FA5F55\"] \n",
    "\n",
    "ax = ct.plot(\n",
    "    kind='bar',\n",
    "    stacked=True,\n",
    "    figsize=(10,8),\n",
    "    color=colors\n",
    ")\n",
    "\n",
    "\n",
    "plt.title(\"Willingness to Visit a Mosque Across Religions (April 2025)\")\n",
    "plt.ylabel(\"% of Respondents\")\n",
    "plt.xlabel(\"Religion\")\n",
    "plt.xticks(rotation=70)\n",
    "\n",
    "plt.legend(title=\"Response\", bbox_to_anchor=(1.05, 1), loc='upper left')\n",
    "\n",
    "plt.tight_layout()\n",
    "plt.show()\n"
   ]
  },
  {
   "cell_type": "markdown",
   "id": "e92224c5",
   "metadata": {},
   "source": [
    "Outside of Muslims, Buddhists are the most open to visiting a mosque if invited, followed by Catholics and those who identified as 'Other.' \n",
    "\n",
    "In contrast, Atheists and Evangelical Christians were the least likely to accept such an invitation, with only 11% responding affirmatively."
   ]
  },
  {
   "cell_type": "code",
   "execution_count": null,
   "id": "64091751",
   "metadata": {},
   "outputs": [],
   "source": [
    "rel = 'How would you rate your own understanding of Muslim religious practices (e.g., Ramadan, daily prayers)?'\n",
    "counts= apr25[rel].value_counts(normalize= True)*100\n"
   ]
  },
  {
   "cell_type": "code",
   "execution_count": null,
   "id": "f3c2b13e",
   "metadata": {},
   "outputs": [],
   "source": [
    "ax = counts.plot(\n",
    "        kind= 'bar',\n",
    "        figsize= (10,8))\n",
    "plt.title (\"Distribution Of Self Reported Understanding of Islam\")\n",
    "plt.xlabel (\"Levels of Understanding\")\n",
    "plt.ylabel(\"% Responses\")\n",
    "plt.xticks (rotation = 70)"
   ]
  },
  {
   "cell_type": "code",
   "execution_count": null,
   "id": "015ecf18",
   "metadata": {},
   "outputs": [],
   "source": [
    "religion_understanding = pd.crosstab(\n",
    "apr25[\"What is your religion?\"],\n",
    "apr25[\"How would you rate your own understanding of Muslim religious practices (e.g., Ramadan, daily prayers)?\"],\n",
    "normalize='index' \n",
    ")*100\n",
    "\n",
    "\n",
    "religion_understanding  =religion_understanding[[\"None at all\", \"A little\", \"A moderate amount\", \"A great deal\"]] \n",
    "colors= [\"#d1d2d2\",\"#77c8f3\",\"#1783dd\",\"#171add\"]\n",
    "\n",
    "ax = religion_understanding.plot(\n",
    "        kind= 'bar',\n",
    "        stacked= True,\n",
    "        color=colors,\n",
    "        figsize= (13,8))\n",
    "plt.title (\"Perceived Knowledge of Islam Across Religious Groups (April 2025)\")\n",
    "plt.xlabel (\"Religion\")\n",
    "plt.ylabel(\"% Responses\")\n",
    "plt.xticks (rotation = 75)\n",
    "\n",
    "plt.legend(title=\"Level of Knowlege\", bbox_to_anchor=(1.05, 1), loc='upper left')\n",
    "\n",
    "plt.tight_layout()\n",
    "plt.show()\n"
   ]
  },
  {
   "cell_type": "code",
   "execution_count": null,
   "id": "e4810f48",
   "metadata": {},
   "outputs": [],
   "source": [
    "religion_understanding"
   ]
  },
  {
   "cell_type": "markdown",
   "id": "3ebf9efa",
   "metadata": {},
   "source": [
    "Outside of Muslims, who report the highest understanding of Islamic practices, Catholics stand out, with nearly 40% indicating they know a great deal. \n",
    "In contrast, Atheists appear the least familiar with Islamic practices with over three-quarters (77%) reporting having little to no knowledge."
   ]
  },
  {
   "cell_type": "code",
   "execution_count": null,
   "id": "ed21246f",
   "metadata": {},
   "outputs": [],
   "source": [
    "religion_understanding = pd.crosstab(\n",
    "apr25['How many muslim people have you talked to in the last 7 days?'],\n",
    "apr25[\"How would you rate your own understanding of Muslim religious practices (e.g., Ramadan, daily prayers)?\"],\n",
    "normalize='index' \n",
    ")*100\n",
    "\n",
    "\n",
    "religion_understanding  =religion_understanding[[\"None at all\", \"A little\", \"A moderate amount\", \"A great deal\"]] \n",
    "order = ['None - 0', '1', '2 to 4', '5 to 10', 'More than 10']\n",
    "religion_understanding = religion_understanding.loc[order]\n",
    "colors= [\"#d1d2d2\",\"#77c8f3\",\"#1783dd\",\"#171add\"]\n",
    "\n",
    "ax = religion_understanding.plot(\n",
    "        kind= 'bar',\n",
    "        stacked= True,\n",
    "        color=colors,\n",
    "        figsize= (13,8))\n",
    "plt.title (\"Relationship Between Muslim Contact and Self-Reported Understanding of Islamic Practices (April 2025)\")\n",
    "plt.xlabel (\"Number Of Muslims You Had Contact With (Last 7 Days)\")\n",
    "plt.ylabel(\"% Responses\")\n",
    "plt.xticks (rotation = 75)\n",
    "\n",
    "plt.legend(title=\"Level of Knowlege\", bbox_to_anchor=(1.05, 1), loc='upper left')\n",
    "\n",
    "plt.tight_layout()\n",
    "plt.show()\n"
   ]
  },
  {
   "cell_type": "markdown",
   "id": "62dae347",
   "metadata": {},
   "source": [
    "Respondents who had more contact with Muslims in the past week were more likely to report knowing a great deal about Islamic practices"
   ]
  },
  {
   "cell_type": "markdown",
   "id": "ab15e9f1",
   "metadata": {},
   "source": [
    "# Willingness to Engage Metric"
   ]
  },
  {
   "cell_type": "markdown",
   "id": "fe22dd30",
   "metadata": {},
   "source": [
    "% who would:\n",
    "\n",
    "- Visit a mosque\n",
    "\n",
    "- Buy from a Muslim-owned business"
   ]
  },
  {
   "cell_type": "code",
   "execution_count": null,
   "id": "6e99b34a",
   "metadata": {},
   "outputs": [],
   "source": [
    "apr25[\"If a Muslim invited you to go to a mosque (Muslims' place of worship), would you go?\"].value_counts(normalize= True)*100"
   ]
  },
  {
   "cell_type": "code",
   "execution_count": null,
   "id": "48922c4f",
   "metadata": {},
   "outputs": [],
   "source": [
    "apr25['Would you feel comfortable buying goods or services from a Muslim-owned business?'].value_counts(normalize= True)*100"
   ]
  },
  {
   "cell_type": "markdown",
   "id": "dc9aab4a",
   "metadata": {},
   "source": [
    "# Sentiment Volatity Score"
   ]
  },
  {
   "cell_type": "code",
   "execution_count": null,
   "id": "7e0a70b7",
   "metadata": {},
   "outputs": [],
   "source": [
    "pos_sentiment = pd.DataFrame([63.30275229357798, 59.68992248062015,49.549549549549546, 48.543689], \n",
    "                      index=[\"June_24\", \"October_24\", \"January_25\", \"Apr_25\"],columns= ['Positive'])\n",
    "\n",
    "neg_sentiment = pd.DataFrame([4.587155963302752,6.976744186046512,4.504504504504505,5.825242718446602],\n",
    "                          index=[\"June_24\", \"October_24\", \"January_25\", \"Apr_25\"], columns=['Negative'])\n",
    "neutral_sentiment = pd.DataFrame([ 32.11009174311927,33.33333333333333,45.94594594594595,45.63106796116505 ],\n",
    "                             index=[\"June_24\", \"October_24\", \"January_25\", \"Apr_25\"], columns= ['Neutral'])\n",
    "\n",
    "\n",
    "def compute_sentiment_metrics(row):\n",
    "    deltas = row.diff().dropna()\n",
    "    return pd.Series({\n",
    "        \"Mean_Change\": deltas.mean(),\n",
    "        \"Volatility\": deltas.std(),\n",
    "        \"Net_Change\": row.iloc[-1] - row.iloc[0]\n",
    "    })\n",
    "\n",
    "\n",
    "metrics = {\n",
    "    \"Positive\": compute_sentiment_metrics(pos_sentiment[\"Positive\"]),\n",
    "    \"Neutral\": compute_sentiment_metrics(neutral_sentiment[\"Neutral\"]),\n",
    "    \"Negative\": compute_sentiment_metrics(neg_sentiment[\"Negative\"])\n",
    "}\n",
    "\n",
    "\n",
    "all_metrics_df = pd.DataFrame(metrics)\n",
    "display(all_metrics_df)"
   ]
  },
  {
   "cell_type": "code",
   "execution_count": null,
   "id": "e75a4949",
   "metadata": {},
   "outputs": [],
   "source": [
    "df_transposed = all_metrics_df.T\n",
    "colors = ['#1c2833', '#85c1e9', '#4565bb']\n",
    "ax = df_transposed.plot(kind='bar', figsize=(10, 6), color=colors, width= 0.6)\n",
    "\n",
    "\n",
    "plt.title(\"Sentiment Metrics Over Time (June 2024-April 2025)\")\n",
    "\n",
    "plt.xticks(rotation=0)\n",
    "plt.legend(title=\"Metric\", bbox_to_anchor=(1.05, 1), loc='upper left')\n",
    "plt.grid(axis='y', linestyle='--', alpha=0.5)\n",
    "plt.tight_layout()\n",
    "plt.show()"
   ]
  },
  {
   "cell_type": "code",
   "execution_count": null,
   "id": "0ef0d097",
   "metadata": {},
   "outputs": [],
   "source": [
    "df_transposed"
   ]
  },
  {
   "cell_type": "code",
   "execution_count": null,
   "id": "eed1c446",
   "metadata": {},
   "outputs": [],
   "source": [
    "pd.set_option('display.max_colwidth', None)\n",
    "def interpret_metrics(row):\n",
    "    mean = row[\"Mean_Change\"]\n",
    "    vol = row[\"Volatility\"]\n",
    "    net = row[\"Net_Change\"]\n",
    "\n",
    "    # Direction\n",
    "    if mean > 1:\n",
    "        direction = \"Increasing\"\n",
    "    elif mean < -1:\n",
    "        direction = \"Decreasing\"\n",
    "    else:\n",
    "        direction = \"Stable\"\n",
    "\n",
    "    # Volatility\n",
    "    if vol < 2:\n",
    "        volatility_note = \"Very stable\"\n",
    "    elif vol < 5:\n",
    "        volatility_note = \"Moderately stable\"\n",
    "    else:\n",
    "        volatility_note = \"High volatility\"\n",
    "\n",
    "    return f\"{direction} trend with {volatility_note} changes over time.\"\n",
    "\n",
    "\n",
    "df_transposed[\"Interpretation\"] =df_transposed.apply(interpret_metrics, axis=1)\n",
    "df_transposed"
   ]
  },
  {
   "cell_type": "markdown",
   "id": "2ef525d3",
   "metadata": {},
   "source": [
    "Volatility measures how much the sentiment percentage fluctuates between time points — regardless of whether it goes up or down.\n",
    "\n",
    "Positive Sentiment:\n",
    "\n",
    "1. Mean Change: –4.92\n",
    "\n",
    "On average, sentiment decreased by nearly 5 percentage points per time period.\n",
    "The negative sign indicates a consistent downward trend, not just fluctuation.\n",
    "\n",
    "2. Volatility (Std Dev): 4.71\n",
    "\n",
    "Shows how much the sentiment fluctuated up and down from one time point to the next.\n",
    "A volatility of ~4.7% is moderate, meaning some instability, but not wild swings.\n",
    "both volatility and direction are aligned (mostly downward).\n",
    "\n",
    "3. Net Change: –14.76\n",
    "\n",
    "A drop of ~15 points is significant.\n",
    "\n",
    "Summary:\n",
    "Sentiment is not only declining over time, but doing so consistently. Although there is some fluctuation, the direction is clearly negative indicating erosion of support or comfort "
   ]
  },
  {
   "cell_type": "code",
   "execution_count": null,
   "id": "95838c9c",
   "metadata": {},
   "outputs": [],
   "source": [
    "dates = ['June 2024', 'Oct 2024', 'Jan 2025', 'April 2025']\n",
    "neg_sentiment = [4.59, 6.98, 4.5, 5.83] \n",
    "\n",
    "plt.figure(figsize=(7, 3))\n",
    "\n",
    "plt.plot(dates, neg_sentiment, marker='o', color='red')\n",
    "#plt.title('Negative Sentiment Toward Muslims Over Time')\n",
    "plt.ylabel('% Negative Sentiment')\n",
    "plt.ylim(0, 10)\n",
    "plt.savefig(\"images/negative_sentiment_trend.png\", dpi=300, bbox_inches='tight')\n",
    "plt.show()"
   ]
  },
  {
   "cell_type": "code",
   "execution_count": null,
   "id": "83318143",
   "metadata": {},
   "outputs": [],
   "source": []
  }
 ],
 "metadata": {
  "kernelspec": {
   "display_name": "Python 3 (ipykernel)",
   "language": "python",
   "name": "python3"
  },
  "language_info": {
   "codemirror_mode": {
    "name": "ipython",
    "version": 3
   },
   "file_extension": ".py",
   "mimetype": "text/x-python",
   "name": "python",
   "nbconvert_exporter": "python",
   "pygments_lexer": "ipython3",
   "version": "3.10.9"
  }
 },
 "nbformat": 4,
 "nbformat_minor": 5
}
